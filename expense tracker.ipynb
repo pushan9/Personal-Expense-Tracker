{
 "cells": [
  {
   "cell_type": "code",
   "execution_count": 1,
   "id": "918a5ee6-971f-4f1f-8f31-4df369a7bc57",
   "metadata": {},
   "outputs": [
    {
     "name": "stdout",
     "output_type": "stream",
     "text": [
      "📂 No saved expenses found. Starting fresh.\n",
      "\n",
      "=== Personal Expense Tracker Menu ===\n",
      "1. Add Expense\n",
      "2. View Expenses\n",
      "3. Set Monthly Budget\n",
      "4. Track Budget\n",
      "5. Save and Exit\n"
     ]
    },
    {
     "name": "stdin",
     "output_type": "stream",
     "text": [
      "Choose an option (1–5):  3\n",
      "Enter your monthly budget (₹):  500000\n"
     ]
    },
    {
     "name": "stdout",
     "output_type": "stream",
     "text": [
      "📌 Budget set to ₹500000.0\n",
      "\n",
      "=== Personal Expense Tracker Menu ===\n",
      "1. Add Expense\n",
      "2. View Expenses\n",
      "3. Set Monthly Budget\n",
      "4. Track Budget\n",
      "5. Save and Exit\n"
     ]
    },
    {
     "name": "stdin",
     "output_type": "stream",
     "text": [
      "Choose an option (1–5):  4\n"
     ]
    },
    {
     "name": "stdout",
     "output_type": "stream",
     "text": [
      "\n",
      "📊 Total spent: ₹0\n",
      "🟢 You have ₹500000.0 left for the month.\n",
      "\n",
      "=== Personal Expense Tracker Menu ===\n",
      "1. Add Expense\n",
      "2. View Expenses\n",
      "3. Set Monthly Budget\n",
      "4. Track Budget\n",
      "5. Save and Exit\n"
     ]
    },
    {
     "name": "stdin",
     "output_type": "stream",
     "text": [
      "Choose an option (1–5):  1\n",
      "Enter date (YYYY-MM-DD):  2025-07-03\n",
      "Enter category (e.g., Food, Travel):  travel\n",
      "Enter amount spent:  100000\n",
      "Enter description:  flight\n"
     ]
    },
    {
     "name": "stdout",
     "output_type": "stream",
     "text": [
      "✅ Expense added.\n",
      "\n",
      "=== Personal Expense Tracker Menu ===\n",
      "1. Add Expense\n",
      "2. View Expenses\n",
      "3. Set Monthly Budget\n",
      "4. Track Budget\n",
      "5. Save and Exit\n"
     ]
    },
    {
     "name": "stdin",
     "output_type": "stream",
     "text": [
      "Choose an option (1–5):  2\n"
     ]
    },
    {
     "name": "stdout",
     "output_type": "stream",
     "text": [
      "\n",
      "🧾 Your Expenses:\n",
      "2025-07-03 | travel | ₹100000.0 | flight\n",
      "\n",
      "\n",
      "=== Personal Expense Tracker Menu ===\n",
      "1. Add Expense\n",
      "2. View Expenses\n",
      "3. Set Monthly Budget\n",
      "4. Track Budget\n",
      "5. Save and Exit\n"
     ]
    },
    {
     "name": "stdin",
     "output_type": "stream",
     "text": [
      "Choose an option (1–5):  4\n"
     ]
    },
    {
     "name": "stdout",
     "output_type": "stream",
     "text": [
      "\n",
      "📊 Total spent: ₹100000.0\n",
      "🟢 You have ₹400000.0 left for the month.\n",
      "\n",
      "=== Personal Expense Tracker Menu ===\n",
      "1. Add Expense\n",
      "2. View Expenses\n",
      "3. Set Monthly Budget\n",
      "4. Track Budget\n",
      "5. Save and Exit\n"
     ]
    },
    {
     "name": "stdin",
     "output_type": "stream",
     "text": [
      "Choose an option (1–5):  5\n"
     ]
    },
    {
     "name": "stdout",
     "output_type": "stream",
     "text": [
      "💾 Expenses saved to file.\n",
      "👋 Exiting… See you next time!\n"
     ]
    }
   ],
   "source": [
    "import csv\n",
    "\n",
    "# Global variables\n",
    "expenses = []\n",
    "monthly_budget = 0.0\n",
    "\n",
    "# Load expenses from file\n",
    "def load_expenses(filename=\"expenses.csv\"):\n",
    "    try:\n",
    "        with open(filename, mode='r') as file:\n",
    "            reader = csv.DictReader(file)\n",
    "            for row in reader:\n",
    "                row['amount'] = float(row['amount'])\n",
    "                expenses.append(row)\n",
    "        print(\"✅ Expenses loaded successfully.\")\n",
    "    except FileNotFoundError:\n",
    "        print(\"📂 No saved expenses found. Starting fresh.\")\n",
    "\n",
    "# Save expenses to file\n",
    "def save_expenses(filename=\"expenses.csv\"):\n",
    "    with open(filename, mode='w', newline='') as file:\n",
    "        writer = csv.DictWriter(file, fieldnames=['date', 'category', 'amount', 'description'])\n",
    "        writer.writeheader()\n",
    "        writer.writerows(expenses)\n",
    "    print(\"💾 Expenses saved to file.\")\n",
    "\n",
    "# Add new expense\n",
    "def add_expense():\n",
    "    date = input(\"Enter date (YYYY-MM-DD): \")\n",
    "    category = input(\"Enter category (e.g., Food, Travel): \")\n",
    "    try:\n",
    "        amount = float(input(\"Enter amount spent: \"))\n",
    "    except ValueError:\n",
    "        print(\"❌ Invalid amount.\")\n",
    "        return\n",
    "    description = input(\"Enter description: \")\n",
    "    expense = {\n",
    "        'date': date,\n",
    "        'category': category,\n",
    "        'amount': amount,\n",
    "        'description': description\n",
    "    }\n",
    "    expenses.append(expense)\n",
    "    print(\"✅ Expense added.\")\n",
    "\n",
    "# View all expenses\n",
    "def view_expenses():\n",
    "    if not expenses:\n",
    "        print(\"📭 No expenses recorded.\")\n",
    "        return\n",
    "    print(\"\\n🧾 Your Expenses:\")\n",
    "    for exp in expenses:\n",
    "        print(f\"{exp['date']} | {exp['category']} | ₹{exp['amount']} | {exp['description']}\")\n",
    "    print()\n",
    "\n",
    "# Set budget\n",
    "def set_budget():\n",
    "    global monthly_budget\n",
    "    try:\n",
    "        monthly_budget = float(input(\"Enter your monthly budget (₹): \"))\n",
    "        print(f\"📌 Budget set to ₹{monthly_budget}\")\n",
    "    except ValueError:\n",
    "        print(\"❌ Invalid input. Please enter a number.\")\n",
    "\n",
    "# Track budget usage\n",
    "def track_budget():\n",
    "    total_spent = sum(exp['amount'] for exp in expenses)\n",
    "    print(f\"\\n📊 Total spent: ₹{total_spent}\")\n",
    "    if total_spent > monthly_budget:\n",
    "        print(\"⚠️ You have exceeded your budget!\")\n",
    "    else:\n",
    "        print(f\"🟢 You have ₹{monthly_budget - total_spent} left for the month.\")\n",
    "\n",
    "# Display menu\n",
    "def display_menu():\n",
    "    while True:\n",
    "        print(\"\\n=== Personal Expense Tracker Menu ===\")\n",
    "        print(\"1. Add Expense\")\n",
    "        print(\"2. View Expenses\")\n",
    "        print(\"3. Set Monthly Budget\")\n",
    "        print(\"4. Track Budget\")\n",
    "        print(\"5. Save and Exit\")\n",
    "        choice = input(\"Choose an option (1–5): \")\n",
    "\n",
    "        if choice == '1':\n",
    "            add_expense()\n",
    "        elif choice == '2':\n",
    "            view_expenses()\n",
    "        elif choice == '3':\n",
    "            set_budget()\n",
    "        elif choice == '4':\n",
    "            track_budget()\n",
    "        elif choice == '5':\n",
    "            save_expenses()\n",
    "            print(\"👋 Exiting… See you next time!\")\n",
    "            break\n",
    "        else:\n",
    "            print(\"❌ Invalid option. Please try again.\")\n",
    "\n",
    "# Run the program\n",
    "load_expenses()\n",
    "display_menu()"
   ]
  },
  {
   "cell_type": "code",
   "execution_count": null,
   "id": "8b1d6d82-2e06-4903-b37a-6d2507801820",
   "metadata": {},
   "outputs": [],
   "source": []
  }
 ],
 "metadata": {
  "kernelspec": {
   "display_name": "Python [conda env:base] *",
   "language": "python",
   "name": "conda-base-py"
  },
  "language_info": {
   "codemirror_mode": {
    "name": "ipython",
    "version": 3
   },
   "file_extension": ".py",
   "mimetype": "text/x-python",
   "name": "python",
   "nbconvert_exporter": "python",
   "pygments_lexer": "ipython3",
   "version": "3.13.5"
  }
 },
 "nbformat": 4,
 "nbformat_minor": 5
}
